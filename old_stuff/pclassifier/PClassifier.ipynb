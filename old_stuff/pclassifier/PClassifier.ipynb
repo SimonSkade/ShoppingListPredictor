{
 "cells": [
  {
   "cell_type": "markdown",
   "metadata": {},
   "source": [
    "# PClassifier - A NLP approach for classifying grocery products\n",
    "This notebook implements a basic model for classifying grocery products for the GroceryListPredictor project, written by David Hahnemann, Simon Skade und Luan Ademi for the german national artifical intelligence contest <a href=\"https://bw-ki.de/app/entry-page\">BwKI</a>"
   ]
  },
  {
   "cell_type": "code",
   "execution_count": 37,
   "metadata": {
    "execution": {
     "iopub.execute_input": "2020-08-04T11:39:15.729883Z",
     "iopub.status.busy": "2020-08-04T11:39:15.729744Z",
     "iopub.status.idle": "2020-08-04T11:39:15.733223Z",
     "shell.execute_reply": "2020-08-04T11:39:15.732921Z",
     "shell.execute_reply.started": "2020-08-04T11:39:15.729870Z"
    }
   },
   "outputs": [],
   "source": [
    "# import the libraries needed for the RNN model\n",
    "import torch\n",
    "import torch.nn as nn\n",
    "import torch.nn.functional as F\n",
    "import numpy as np\n",
    "\n",
    "# some helper classes (see util.py)\n",
    "from util import randomChoice, lineToTensor, readFile\n",
    "\n",
    "# for debugging\n",
    "from IPython.core.debugger import set_trace\n",
    "\n",
    "# import matplotlib for plotting \n",
    "import matplotlib.pyplot as plt\n",
    "import matplotlib.ticker as ticker\n",
    "\n",
    "# other libraries required by this notebook\n",
    "import string\n",
    "import time\n",
    "import math\n",
    "import random\n",
    "import glob\n",
    "import os\n",
    "\n",
    "# the number of hidden neurons of the RNN\n",
    "n_hidden = 128\n",
    "\n",
    "# the learning rate\n",
    "learning_rate = 0.0005\n",
    "\n",
    "# a list containing all ascii caracters and some german exclusive ones\n",
    "all_letters = string.ascii_letters + \" .,;'\" + \"äÄüÜöÖß\"\n",
    "n_letters = len(all_letters)\n",
    "\n",
    "# define the device for the training (Due to a small number of neurons, training on the cpu actually is faster)\n",
    "device = torch.device(\"cpu\")"
   ]
  },
  {
   "cell_type": "markdown",
   "metadata": {},
   "source": [
    "## The RNN model\n",
    "We initialize a simple self feeding network, which consists of two linear layers. The input and the hidden state are passed through **i2h** and **i2o** and the network returns a new hidden state and a normalized probability distribution consisting of a probability for every category defined."
   ]
  },
  {
   "cell_type": "code",
   "execution_count": 38,
   "metadata": {
    "execution": {
     "iopub.execute_input": "2020-08-04T11:39:16.680841Z",
     "iopub.status.busy": "2020-08-04T11:39:16.680700Z",
     "iopub.status.idle": "2020-08-04T11:39:16.684394Z",
     "shell.execute_reply": "2020-08-04T11:39:16.684067Z",
     "shell.execute_reply.started": "2020-08-04T11:39:16.680828Z"
    }
   },
   "outputs": [],
   "source": [
    "class RNN(nn.Module):\n",
    "    def __init__(self, input_size, hidden_size, output_size):\n",
    "        super(RNN, self).__init__()\n",
    "\n",
    "        self.hidden_size = hidden_size\n",
    "\n",
    "        self.i2h = nn.Linear(input_size + hidden_size, hidden_size)\n",
    "        self.i2o = nn.Linear(input_size + hidden_size, output_size)\n",
    "        self.softmax = nn.LogSoftmax(dim=1) # softmax_i(x) = log( exp(x_i) / sum(x_z) )  \n",
    "\n",
    "    def forward(self, input, hidden):\n",
    "        combined = torch.cat((input, hidden), 1)\n",
    "        hidden = self.i2h(combined)\n",
    "        output = self.i2o(combined)\n",
    "        output = self.softmax(output)\n",
    "        return output, hidden\n",
    "\n",
    "    def initHidden(self):\n",
    "        return torch.zeros(1, self.hidden_size)"
   ]
  },
  {
   "cell_type": "markdown",
   "metadata": {},
   "source": [
    "## Retrieve the data from the word lists\n",
    "We read in all the text files from the directory and create the classes and their corresponding elements"
   ]
  },
  {
   "cell_type": "code",
   "execution_count": 39,
   "metadata": {
    "execution": {
     "iopub.execute_input": "2020-08-04T11:39:17.419212Z",
     "iopub.status.busy": "2020-08-04T11:39:17.419017Z",
     "iopub.status.idle": "2020-08-04T11:39:17.421259Z",
     "shell.execute_reply": "2020-08-04T11:39:17.420911Z",
     "shell.execute_reply.started": "2020-08-04T11:39:17.419195Z"
    }
   },
   "outputs": [],
   "source": [
    "category_lines = {}\n",
    "categories = []"
   ]
  },
  {
   "cell_type": "code",
   "execution_count": 40,
   "metadata": {
    "execution": {
     "iopub.execute_input": "2020-08-04T11:39:17.808866Z",
     "iopub.status.busy": "2020-08-04T11:39:17.808710Z",
     "iopub.status.idle": "2020-08-04T11:39:17.811761Z",
     "shell.execute_reply": "2020-08-04T11:39:17.811504Z",
     "shell.execute_reply.started": "2020-08-04T11:39:17.808851Z"
    }
   },
   "outputs": [],
   "source": [
    "for filename in glob.glob('../Produktlisten/*.txt'):\n",
    "    # create the catergories from the filenames\n",
    "    category = os.path.splitext(os.path.basename(filename))[0] \n",
    "    categories.append(category)\n",
    "    # assign the lines from the file to that category\n",
    "    lines = readFile(filename) \n",
    "    category_lines[category] = lines"
   ]
  },
  {
   "cell_type": "code",
   "execution_count": 41,
   "metadata": {
    "execution": {
     "iopub.execute_input": "2020-08-04T11:39:18.178924Z",
     "iopub.status.busy": "2020-08-04T11:39:18.178745Z",
     "iopub.status.idle": "2020-08-04T11:39:18.180957Z",
     "shell.execute_reply": "2020-08-04T11:39:18.180652Z",
     "shell.execute_reply.started": "2020-08-04T11:39:18.178909Z"
    }
   },
   "outputs": [],
   "source": [
    "n_categories = len(categories)"
   ]
  },
  {
   "cell_type": "code",
   "execution_count": 49,
   "metadata": {
    "execution": {
     "iopub.execute_input": "2020-08-04T11:39:58.671425Z",
     "iopub.status.busy": "2020-08-04T11:39:58.671224Z",
     "iopub.status.idle": "2020-08-04T11:39:58.674803Z",
     "shell.execute_reply": "2020-08-04T11:39:58.674426Z",
     "shell.execute_reply.started": "2020-08-04T11:39:58.671405Z"
    }
   },
   "outputs": [],
   "source": [
    "rnn = RNN(n_letters, n_hidden, n_categories).to(device) # out model\n",
    "criterion = nn.NLLLoss() # the negative log likelihood loss\n",
    "optimizer = torch.optim.SGD(rnn.parameters(), lr=0.005)"
   ]
  },
  {
   "cell_type": "code",
   "execution_count": 50,
   "metadata": {
    "execution": {
     "iopub.execute_input": "2020-08-04T11:39:59.112482Z",
     "iopub.status.busy": "2020-08-04T11:39:59.112317Z",
     "iopub.status.idle": "2020-08-04T11:39:59.114960Z",
     "shell.execute_reply": "2020-08-04T11:39:59.114603Z",
     "shell.execute_reply.started": "2020-08-04T11:39:59.112466Z"
    }
   },
   "outputs": [],
   "source": [
    "# returns the prediction of the network by passing every letterTensor through the network\n",
    "def evaluate(line_tensor):\n",
    "    hidden = rnn.initHidden() # initialize a hidden tensor for the first feed\n",
    "    \n",
    "    # pass every letter tensor through the network\n",
    "    for i in range(line_tensor.size()[0]):\n",
    "        output, hidden = rnn(line_tensor[i], hidden)\n",
    "\n",
    "    return output"
   ]
  },
  {
   "cell_type": "code",
   "execution_count": 51,
   "metadata": {
    "execution": {
     "iopub.execute_input": "2020-08-04T11:39:59.428788Z",
     "iopub.status.busy": "2020-08-04T11:39:59.428628Z",
     "iopub.status.idle": "2020-08-04T11:39:59.434254Z",
     "shell.execute_reply": "2020-08-04T11:39:59.433824Z",
     "shell.execute_reply.started": "2020-08-04T11:39:59.428773Z"
    }
   },
   "outputs": [
    {
     "ename": "RuntimeError",
     "evalue": "Error(s) in loading state_dict for RNN:\n\tsize mismatch for i2o.weight: copying a param with shape torch.Size([12, 192]) from checkpoint, the shape in current model is torch.Size([13, 192]).\n\tsize mismatch for i2o.bias: copying a param with shape torch.Size([12]) from checkpoint, the shape in current model is torch.Size([13]).",
     "output_type": "error",
     "traceback": [
      "\u001b[0;31m---------------------------------------------------------------------------\u001b[0m",
      "\u001b[0;31mRuntimeError\u001b[0m                              Traceback (most recent call last)",
      "\u001b[0;32m<ipython-input-51-e04969084095>\u001b[0m in \u001b[0;36m<module>\u001b[0;34m\u001b[0m\n\u001b[0;32m----> 1\u001b[0;31m \u001b[0mrnn\u001b[0m\u001b[0;34m.\u001b[0m\u001b[0mload_state_dict\u001b[0m\u001b[0;34m(\u001b[0m\u001b[0mtorch\u001b[0m\u001b[0;34m.\u001b[0m\u001b[0mload\u001b[0m\u001b[0;34m(\u001b[0m\u001b[0;34m\"state_dicts/model.pt\"\u001b[0m\u001b[0;34m)\u001b[0m\u001b[0;34m)\u001b[0m \u001b[0;31m# loads a prtrained model\u001b[0m\u001b[0;34m\u001b[0m\u001b[0;34m\u001b[0m\u001b[0m\n\u001b[0m",
      "\u001b[0;32m~/anaconda3/envs/jupyterlab-debugger/lib/python3.8/site-packages/torch/nn/modules/module.py\u001b[0m in \u001b[0;36mload_state_dict\u001b[0;34m(self, state_dict, strict)\u001b[0m\n\u001b[1;32m   1042\u001b[0m \u001b[0;34m\u001b[0m\u001b[0m\n\u001b[1;32m   1043\u001b[0m         \u001b[0;32mif\u001b[0m \u001b[0mlen\u001b[0m\u001b[0;34m(\u001b[0m\u001b[0merror_msgs\u001b[0m\u001b[0;34m)\u001b[0m \u001b[0;34m>\u001b[0m \u001b[0;36m0\u001b[0m\u001b[0;34m:\u001b[0m\u001b[0;34m\u001b[0m\u001b[0;34m\u001b[0m\u001b[0m\n\u001b[0;32m-> 1044\u001b[0;31m             raise RuntimeError('Error(s) in loading state_dict for {}:\\n\\t{}'.format(\n\u001b[0m\u001b[1;32m   1045\u001b[0m                                self.__class__.__name__, \"\\n\\t\".join(error_msgs)))\n\u001b[1;32m   1046\u001b[0m         \u001b[0;32mreturn\u001b[0m \u001b[0m_IncompatibleKeys\u001b[0m\u001b[0;34m(\u001b[0m\u001b[0mmissing_keys\u001b[0m\u001b[0;34m,\u001b[0m \u001b[0munexpected_keys\u001b[0m\u001b[0;34m)\u001b[0m\u001b[0;34m\u001b[0m\u001b[0;34m\u001b[0m\u001b[0m\n",
      "\u001b[0;31mRuntimeError\u001b[0m: Error(s) in loading state_dict for RNN:\n\tsize mismatch for i2o.weight: copying a param with shape torch.Size([12, 192]) from checkpoint, the shape in current model is torch.Size([13, 192]).\n\tsize mismatch for i2o.bias: copying a param with shape torch.Size([12]) from checkpoint, the shape in current model is torch.Size([13])."
     ]
    }
   ],
   "source": [
    "rnn.load_state_dict(torch.load(\"state_dicts/model.pt\")) # loads a prtrained model"
   ]
  },
  {
   "cell_type": "code",
   "execution_count": 52,
   "metadata": {
    "execution": {
     "iopub.execute_input": "2020-08-04T11:39:59.860198Z",
     "iopub.status.busy": "2020-08-04T11:39:59.860048Z",
     "iopub.status.idle": "2020-08-04T11:39:59.862764Z",
     "shell.execute_reply": "2020-08-04T11:39:59.862443Z",
     "shell.execute_reply.started": "2020-08-04T11:39:59.860184Z"
    }
   },
   "outputs": [],
   "source": [
    "# returns a random training example\n",
    "def randomTrainingExample():\n",
    "    category = randomChoice(categories)\n",
    "    line = randomChoice(category_lines[category])\n",
    "\n",
    "    category_tensor = torch.tensor([categories.index(category)], dtype=torch.long)\n",
    "\n",
    "    line_tensor = lineToTensor(line)\n",
    "    return category, line, category_tensor, line_tensor"
   ]
  },
  {
   "cell_type": "markdown",
   "metadata": {},
   "source": [
    "## Train the network"
   ]
  },
  {
   "cell_type": "code",
   "execution_count": 53,
   "metadata": {
    "execution": {
     "iopub.execute_input": "2020-08-04T11:40:00.642218Z",
     "iopub.status.busy": "2020-08-04T11:40:00.642061Z",
     "iopub.status.idle": "2020-08-04T11:40:00.645276Z",
     "shell.execute_reply": "2020-08-04T11:40:00.644920Z",
     "shell.execute_reply.started": "2020-08-04T11:40:00.642203Z"
    }
   },
   "outputs": [],
   "source": [
    "# performs a training step with the given line and category tensor\n",
    "def train(category_tensor, line_tensor):\n",
    "    \n",
    "    hidden = rnn.initHidden() # initialize a hidden tensor for the first feed\n",
    "\n",
    "    optimizer.zero_grad() # reset the current gradients \n",
    "    \n",
    "    # pass every letter tensor through the network\n",
    "    for i in range(line_tensor.size()[0]):\n",
    "        output, hidden = rnn(line_tensor[i], hidden)\n",
    "    \n",
    "    # define our loss criterion\n",
    "    loss = criterion(output, category_tensor)\n",
    "    loss.backward()\n",
    "\n",
    "   \n",
    "    # Add parameters gradients to their values, multiplied by learning rate (Gradient Descent)\n",
    "    optimizer.step()\n",
    "\n",
    "    return output, loss.item()"
   ]
  },
  {
   "cell_type": "code",
   "execution_count": 54,
   "metadata": {
    "execution": {
     "iopub.execute_input": "2020-08-04T11:40:01.264110Z",
     "iopub.status.busy": "2020-08-04T11:40:01.263974Z",
     "iopub.status.idle": "2020-08-04T11:40:01.267074Z",
     "shell.execute_reply": "2020-08-04T11:40:01.266728Z",
     "shell.execute_reply.started": "2020-08-04T11:40:01.264098Z"
    }
   },
   "outputs": [],
   "source": [
    "# retieves the category of an output by the network\n",
    "def categoryFromOutput(output):\n",
    "    top_n, top_i = output.topk(1)\n",
    "    category_i = top_i[0].item()\n",
    "    return categories[category_i], category_i"
   ]
  },
  {
   "cell_type": "markdown",
   "metadata": {},
   "source": [
    "## Main Loop"
   ]
  },
  {
   "cell_type": "code",
   "execution_count": 55,
   "metadata": {
    "execution": {
     "iopub.execute_input": "2020-08-04T11:40:02.000088Z",
     "iopub.status.busy": "2020-08-04T11:40:01.999913Z",
     "iopub.status.idle": "2020-08-04T11:40:17.234386Z",
     "shell.execute_reply": "2020-08-04T11:40:17.234141Z",
     "shell.execute_reply.started": "2020-08-04T11:40:02.000071Z"
    }
   },
   "outputs": [
    {
     "name": "stdout",
     "output_type": "stream",
     "text": [
      "5000 3% (0m 4s) 0.1174 GEFLÜGELFLEISCH / fleisch ✓\n",
      "10000 6% (0m 8s) 1.5375 KNOBLAUCH / gewuerze ✗ (gemuese)\n",
      "Got NaN at iteration 13870\n",
      "> \u001b[0;32m<ipython-input-55-1961f7bfe7b2>\u001b[0m(26)\u001b[0;36m<module>\u001b[0;34m()\u001b[0m\n",
      "\u001b[0;32m     24 \u001b[0;31m        \u001b[0mprint\u001b[0m\u001b[0;34m(\u001b[0m\u001b[0;34m\"Got NaN at iteration \"\u001b[0m \u001b[0;34m+\u001b[0m \u001b[0mstr\u001b[0m\u001b[0;34m(\u001b[0m\u001b[0miter\u001b[0m\u001b[0;34m)\u001b[0m\u001b[0;34m)\u001b[0m\u001b[0;34m\u001b[0m\u001b[0;34m\u001b[0m\u001b[0m\n",
      "\u001b[0m\u001b[0;32m     25 \u001b[0;31m        \u001b[0mset_trace\u001b[0m\u001b[0;34m(\u001b[0m\u001b[0;34m)\u001b[0m\u001b[0;34m\u001b[0m\u001b[0;34m\u001b[0m\u001b[0m\n",
      "\u001b[0m\u001b[0;32m---> 26 \u001b[0;31m        \u001b[0;32mbreak\u001b[0m\u001b[0;34m\u001b[0m\u001b[0;34m\u001b[0m\u001b[0m\n",
      "\u001b[0m\u001b[0;32m     27 \u001b[0;31m\u001b[0;34m\u001b[0m\u001b[0m\n",
      "\u001b[0m\u001b[0;32m     28 \u001b[0;31m    \u001b[0;31m# Print iter number, loss, name and guess\u001b[0m\u001b[0;34m\u001b[0m\u001b[0;34m\u001b[0m\u001b[0;34m\u001b[0m\u001b[0m\n",
      "\u001b[0m\n",
      "--KeyboardInterrupt--\n",
      "\n",
      "KeyboardInterrupt: Interrupted by user\n"
     ]
    },
    {
     "data": {
      "text/plain": [
       "[<matplotlib.lines.Line2D at 0x7ff9f46e0fa0>]"
      ]
     },
     "execution_count": 55,
     "metadata": {},
     "output_type": "execute_result"
    },
    {
     "data": {
      "image/png": "[encoded data removed]",
      "text/plain": [
       "<Figure size 432x288 with 1 Axes>"
      ]
     },
     "metadata": {
      "needs_background": "light"
     },
     "output_type": "display_data"
    },
    {
     "name": "stdin",
     "output_type": "stream",
     "text": [
      "ipdb>  exit()\n"
     ]
    }
   ],
   "source": [
    "n_iters = 150000\n",
    "print_every = 5000\n",
    "plot_every = 1000\n",
    "\n",
    "current_loss = 0\n",
    "all_losses = []\n",
    "\n",
    "def timeSince(since):\n",
    "    now = time.time()\n",
    "    s = now - since\n",
    "    m = math.floor(s / 60)\n",
    "    s -= m * 60\n",
    "    return '%dm %ds' % (m, s)\n",
    "\n",
    "start = time.time()\n",
    "\n",
    "for iter in range(1, n_iters + 1):\n",
    "    category, line, category_tensor, line_tensor = randomTrainingExample()\n",
    "    output, loss = train(category_tensor, line_tensor)\n",
    "    current_loss += loss\n",
    "    \n",
    "    # the logSoftmax function sometimes returns nan, hence the loss is nan. Still haven't found the cause :/\n",
    "    if np.isnan(loss):\n",
    "        print(\"Got NaN at iteration \" + str(iter))\n",
    "        set_trace()\n",
    "        break\n",
    "\n",
    "    # Print iter number, loss, name and guess\n",
    "    if iter % print_every == 0:\n",
    "        guess, guess_i = categoryFromOutput(output)\n",
    "        correct = '✓' if guess == category else '✗ (%s)' % category\n",
    "        print('%d %d%% (%s) %.4f %s / %s %s' % (iter, iter / n_iters * 100, timeSince(start), loss, line, guess, correct))\n",
    "\n",
    "    # Add current loss avg to list of losses\n",
    "    if iter % plot_every == 0:\n",
    "        all_losses.append(current_loss / plot_every)\n",
    "        current_loss = 0\n",
    "\n",
    "# plot the graph of the losses returned during training\n",
    "plt.figure()\n",
    "plt.plot(all_losses)"
   ]
  },
  {
   "cell_type": "markdown",
   "metadata": {},
   "source": [
    "## Evaluate the result"
   ]
  },
  {
   "cell_type": "code",
   "execution_count": 33,
   "metadata": {
    "execution": {
     "iopub.execute_input": "2020-08-04T11:38:19.184708Z",
     "iopub.status.busy": "2020-08-04T11:38:19.184543Z",
     "iopub.status.idle": "2020-08-04T11:38:19.188166Z",
     "shell.execute_reply": "2020-08-04T11:38:19.187808Z",
     "shell.execute_reply.started": "2020-08-04T11:38:19.184694Z"
    }
   },
   "outputs": [],
   "source": [
    "def predict(input_line, n_predictions=3):\n",
    "    print('\\n> %s' % input_line)\n",
    "    with torch.no_grad():\n",
    "        output = evaluate(lineToTensor(input_line))\n",
    "\n",
    "        # Get top N categories\n",
    "        topv, topi = output.topk(n_predictions, 1, True)\n",
    "        predictions = []\n",
    "\n",
    "        for i in range(n_predictions):\n",
    "            value = topv[0][i].item()\n",
    "            category_index = topi[0][i].item()\n",
    "            print('(%.2f) %s' % (value, categories[category_index]))\n",
    "            predictions.append([value, categories[category_index]])"
   ]
  },
  {
   "cell_type": "code",
   "execution_count": 36,
   "metadata": {
    "execution": {
     "iopub.execute_input": "2020-08-04T11:38:32.959739Z",
     "iopub.status.busy": "2020-08-04T11:38:32.959578Z",
     "iopub.status.idle": "2020-08-04T11:38:32.962802Z",
     "shell.execute_reply": "2020-08-04T11:38:32.962497Z",
     "shell.execute_reply.started": "2020-08-04T11:38:32.959725Z"
    }
   },
   "outputs": [
    {
     "name": "stdout",
     "output_type": "stream",
     "text": [
      "\n",
      "> VENTILATOR\n",
      "(-0.21) obst\n",
      "(-2.01) gewuerze\n",
      "(-2.90) gemuese\n"
     ]
    }
   ],
   "source": [
    "predict(\"Ventilator\".upper())"
   ]
  },
  {
   "cell_type": "code",
   "execution_count": 25,
   "metadata": {},
   "outputs": [],
   "source": [
    "torch.save(rnn.state_dict(), \"state_dicts/model.pt\") # save the trained model"
   ]
  }
 ],
 "metadata": {
  "kernelspec": {
   "display_name": "Python 3",
   "language": "python",
   "name": "python3"
  },
  "language_info": {
   "codemirror_mode": {
    "name": "ipython",
    "version": 3
   },
   "file_extension": ".py",
   "mimetype": "text/x-python",
   "name": "python",
   "nbconvert_exporter": "python",
   "pygments_lexer": "ipython3",
   "version": "3.8.5"
  }
 },
 "nbformat": 4,
 "nbformat_minor": 4
}
