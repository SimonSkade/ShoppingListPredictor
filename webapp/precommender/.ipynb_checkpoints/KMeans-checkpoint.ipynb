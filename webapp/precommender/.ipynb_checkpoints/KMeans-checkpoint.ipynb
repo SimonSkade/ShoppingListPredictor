{
 "cells": [
  {
   "cell_type": "code",
   "execution_count": 1,
   "metadata": {
    "execution": {
     "iopub.execute_input": "2020-08-27T14:00:46.813242Z",
     "iopub.status.busy": "2020-08-27T14:00:46.813091Z",
     "iopub.status.idle": "2020-08-27T14:00:47.221029Z",
     "shell.execute_reply": "2020-08-27T14:00:47.220688Z",
     "shell.execute_reply.started": "2020-08-27T14:00:46.813227Z"
    }
   },
   "outputs": [],
   "source": [
    "import matplotlib.pyplot as plt\n",
    "from mpl_toolkits.mplot3d import Axes3D\n",
    "from matplotlib import animation\n",
    "from celluloid import Camera\n",
    "from sklearn.datasets import make_blobs\n",
    "from kmeans import kmeans\n",
    "from sklearn.preprocessing import StandardScaler\n",
    "\n",
    "from sklearn.preprocessing import StandardScaler\n",
    "from sklearn.metrics import silhouette_score\n",
    "import numpy as np\n",
    "import random"
   ]
  },
  {
   "cell_type": "code",
   "execution_count": 2,
   "metadata": {
    "execution": {
     "iopub.execute_input": "2020-08-27T14:00:47.711610Z",
     "iopub.status.busy": "2020-08-27T14:00:47.711406Z",
     "iopub.status.idle": "2020-08-27T14:00:47.716349Z",
     "shell.execute_reply": "2020-08-27T14:00:47.715933Z",
     "shell.execute_reply.started": "2020-08-27T14:00:47.711588Z"
    }
   },
   "outputs": [],
   "source": [
    "centers = 10\n",
    "samples = 200\n",
    "X, _ = make_blobs(n_samples=samples, centers=centers, n_features=2, cluster_std=0.9, random_state=2)\n",
    "scaler = StandardScaler()\n",
    "X =scaler.fit_transform(X)"
   ]
  },
  {
   "cell_type": "code",
   "execution_count": 3,
   "metadata": {
    "execution": {
     "iopub.execute_input": "2020-08-27T14:00:48.056628Z",
     "iopub.status.busy": "2020-08-27T14:00:48.056473Z",
     "iopub.status.idle": "2020-08-27T14:00:48.100888Z",
     "shell.execute_reply": "2020-08-27T14:00:48.100535Z",
     "shell.execute_reply.started": "2020-08-27T14:00:48.056616Z"
    }
   },
   "outputs": [],
   "source": [
    "kmean = kmeans(10)\n",
    "kmean.fit(X, max_iters=1)"
   ]
  },
  {
   "cell_type": "code",
   "execution_count": 4,
   "metadata": {
    "execution": {
     "iopub.execute_input": "2020-08-27T14:00:48.879554Z",
     "iopub.status.busy": "2020-08-27T14:00:48.879394Z",
     "iopub.status.idle": "2020-08-27T14:00:48.972973Z",
     "shell.execute_reply": "2020-08-27T14:00:48.972668Z",
     "shell.execute_reply.started": "2020-08-27T14:00:48.879542Z"
    }
   },
   "outputs": [
    {
     "data": {
      "text/plain": [
       "<matplotlib.collections.PathCollection at 0x7f6328933220>"
      ]
     },
     "execution_count": 4,
     "metadata": {},
     "output_type": "execute_result"
    },
    {
     "data": {
      "image/png": "[encoded data removed]",
      "text/plain": [
       "<Figure size 432x288 with 1 Axes>"
      ]
     },
     "metadata": {
      "needs_background": "light"
     },
     "output_type": "display_data"
    }
   ],
   "source": [
    "plt.scatter(X[:-1, 0], X[:-1, 1], c=kmean.affiliations[:-1], s=10, alpha=0.5)\n",
    "plt.scatter(kmean.centroids[:, 0], kmean.centroids[:, 1], c='r', s=100)"
   ]
  },
  {
   "cell_type": "code",
   "execution_count": 4,
   "metadata": {
    "execution": {
     "iopub.execute_input": "2020-08-27T13:56:36.603511Z",
     "iopub.status.busy": "2020-08-27T13:56:36.603340Z",
     "iopub.status.idle": "2020-08-27T13:56:36.605768Z",
     "shell.execute_reply": "2020-08-27T13:56:36.605535Z",
     "shell.execute_reply.started": "2020-08-27T13:56:36.603495Z"
    }
   },
   "outputs": [],
   "source": [
    "def addPoint():\n",
    "    global X\n",
    "    X = np.vstack((X,[random.uniform(-2, 2), random.uniform(-2, 2)]))"
   ]
  },
  {
   "cell_type": "code",
   "execution_count": 5,
   "metadata": {
    "execution": {
     "iopub.execute_input": "2020-08-27T13:56:51.547451Z",
     "iopub.status.busy": "2020-08-27T13:56:51.547315Z",
     "iopub.status.idle": "2020-08-27T13:57:36.207542Z",
     "shell.execute_reply": "2020-08-27T13:57:36.207166Z",
     "shell.execute_reply.started": "2020-08-27T13:56:51.547439Z"
    }
   },
   "outputs": [
    {
     "ename": "KeyboardInterrupt",
     "evalue": "",
     "output_type": "error",
     "traceback": [
      "\u001b[0;31m---------------------------------------------------------------------------\u001b[0m",
      "\u001b[0;31mKeyboardInterrupt\u001b[0m                         Traceback (most recent call last)",
      "\u001b[0;32m<ipython-input-5-6e8f93581be2>\u001b[0m in \u001b[0;36m<module>\u001b[0;34m\u001b[0m\n\u001b[1;32m      3\u001b[0m \u001b[0;34m\u001b[0m\u001b[0m\n\u001b[1;32m      4\u001b[0m \u001b[0;32mfor\u001b[0m \u001b[0mi\u001b[0m \u001b[0;32min\u001b[0m \u001b[0mrange\u001b[0m\u001b[0;34m(\u001b[0m\u001b[0;36m30\u001b[0m\u001b[0;34m)\u001b[0m\u001b[0;34m:\u001b[0m\u001b[0;34m\u001b[0m\u001b[0;34m\u001b[0m\u001b[0m\n\u001b[0;32m----> 5\u001b[0;31m     \u001b[0mkmean\u001b[0m\u001b[0;34m.\u001b[0m\u001b[0mfit\u001b[0m\u001b[0;34m(\u001b[0m\u001b[0mX\u001b[0m\u001b[0;34m,\u001b[0m \u001b[0mmax_iters\u001b[0m\u001b[0;34m=\u001b[0m\u001b[0;36m1\u001b[0m\u001b[0;34m,\u001b[0m \u001b[0moptimize\u001b[0m\u001b[0;34m=\u001b[0m\u001b[0;32mTrue\u001b[0m\u001b[0;34m)\u001b[0m\u001b[0;34m\u001b[0m\u001b[0;34m\u001b[0m\u001b[0m\n\u001b[0m\u001b[1;32m      6\u001b[0m     \u001b[0mplt\u001b[0m\u001b[0;34m.\u001b[0m\u001b[0mscatter\u001b[0m\u001b[0;34m(\u001b[0m\u001b[0mX\u001b[0m\u001b[0;34m[\u001b[0m\u001b[0;34m-\u001b[0m\u001b[0;36m1\u001b[0m\u001b[0;34m:\u001b[0m\u001b[0;34m,\u001b[0m \u001b[0;36m0\u001b[0m\u001b[0;34m]\u001b[0m\u001b[0;34m,\u001b[0m \u001b[0mX\u001b[0m\u001b[0;34m[\u001b[0m\u001b[0;34m-\u001b[0m\u001b[0;36m1\u001b[0m\u001b[0;34m:\u001b[0m\u001b[0;34m,\u001b[0m \u001b[0;36m1\u001b[0m\u001b[0;34m]\u001b[0m\u001b[0;34m,\u001b[0m \u001b[0mc\u001b[0m\u001b[0;34m=\u001b[0m\u001b[0;34m'b'\u001b[0m\u001b[0;34m,\u001b[0m \u001b[0mmarker\u001b[0m\u001b[0;34m=\u001b[0m\u001b[0;34m'^'\u001b[0m\u001b[0;34m)\u001b[0m\u001b[0;34m\u001b[0m\u001b[0;34m\u001b[0m\u001b[0m\n\u001b[1;32m      7\u001b[0m     \u001b[0mplt\u001b[0m\u001b[0;34m.\u001b[0m\u001b[0mscatter\u001b[0m\u001b[0;34m(\u001b[0m\u001b[0mX\u001b[0m\u001b[0;34m[\u001b[0m\u001b[0;34m:\u001b[0m\u001b[0;34m-\u001b[0m\u001b[0;36m1\u001b[0m\u001b[0;34m,\u001b[0m \u001b[0;36m0\u001b[0m\u001b[0;34m]\u001b[0m\u001b[0;34m,\u001b[0m \u001b[0mX\u001b[0m\u001b[0;34m[\u001b[0m\u001b[0;34m:\u001b[0m\u001b[0;34m-\u001b[0m\u001b[0;36m1\u001b[0m\u001b[0;34m,\u001b[0m \u001b[0;36m1\u001b[0m\u001b[0;34m]\u001b[0m\u001b[0;34m,\u001b[0m \u001b[0mc\u001b[0m\u001b[0;34m=\u001b[0m\u001b[0mkmean\u001b[0m\u001b[0;34m.\u001b[0m\u001b[0maffiliations\u001b[0m\u001b[0;34m[\u001b[0m\u001b[0;34m:\u001b[0m\u001b[0;34m-\u001b[0m\u001b[0;36m1\u001b[0m\u001b[0;34m]\u001b[0m\u001b[0;34m,\u001b[0m \u001b[0ms\u001b[0m\u001b[0;34m=\u001b[0m\u001b[0;36m10\u001b[0m\u001b[0;34m,\u001b[0m \u001b[0malpha\u001b[0m\u001b[0;34m=\u001b[0m\u001b[0;36m0.5\u001b[0m\u001b[0;34m)\u001b[0m\u001b[0;34m\u001b[0m\u001b[0;34m\u001b[0m\u001b[0m\n",
      "\u001b[0;32m~/Schreibtisch/Programmieren/GroceryListPredictor/precommender/kmeans.py\u001b[0m in \u001b[0;36mfit\u001b[0;34m(self, data, max_iters, verbose, optimize)\u001b[0m\n\u001b[1;32m     92\u001b[0m                 \u001b[0;32mwith\u001b[0m \u001b[0mconcurrent\u001b[0m\u001b[0;34m.\u001b[0m\u001b[0mfutures\u001b[0m\u001b[0;34m.\u001b[0m\u001b[0mThreadPoolExecutor\u001b[0m\u001b[0;34m(\u001b[0m\u001b[0;34m)\u001b[0m \u001b[0;32mas\u001b[0m \u001b[0mexecutor\u001b[0m\u001b[0;34m:\u001b[0m\u001b[0;34m\u001b[0m\u001b[0;34m\u001b[0m\u001b[0m\n\u001b[1;32m     93\u001b[0m                     \u001b[0mfuture\u001b[0m \u001b[0;34m=\u001b[0m \u001b[0mexecutor\u001b[0m\u001b[0;34m.\u001b[0m\u001b[0msubmit\u001b[0m\u001b[0;34m(\u001b[0m\u001b[0mrun\u001b[0m\u001b[0;34m,\u001b[0m \u001b[0mcK\u001b[0m\u001b[0;34m)\u001b[0m\u001b[0;34m\u001b[0m\u001b[0;34m\u001b[0m\u001b[0m\n\u001b[0;32m---> 94\u001b[0;31m                     \u001b[0mreturn_value\u001b[0m \u001b[0;34m=\u001b[0m \u001b[0mfuture\u001b[0m\u001b[0;34m.\u001b[0m\u001b[0mresult\u001b[0m\u001b[0;34m(\u001b[0m\u001b[0;34m)\u001b[0m\u001b[0;34m\u001b[0m\u001b[0;34m\u001b[0m\u001b[0m\n\u001b[0m\u001b[1;32m     95\u001b[0m                     \u001b[0msilscore\u001b[0m\u001b[0;34m,\u001b[0m \u001b[0mK\u001b[0m\u001b[0;34m,\u001b[0m \u001b[0mcentroids\u001b[0m\u001b[0;34m,\u001b[0m \u001b[0maff\u001b[0m \u001b[0;34m=\u001b[0m \u001b[0mreturn_value\u001b[0m\u001b[0;34m\u001b[0m\u001b[0;34m\u001b[0m\u001b[0m\n\u001b[1;32m     96\u001b[0m \u001b[0;34m\u001b[0m\u001b[0m\n",
      "\u001b[0;32m~/anaconda3/envs/jupyterlab-debugger/lib/python3.8/concurrent/futures/_base.py\u001b[0m in \u001b[0;36mresult\u001b[0;34m(self, timeout)\u001b[0m\n\u001b[1;32m    432\u001b[0m                 \u001b[0;32mreturn\u001b[0m \u001b[0mself\u001b[0m\u001b[0;34m.\u001b[0m\u001b[0m__get_result\u001b[0m\u001b[0;34m(\u001b[0m\u001b[0;34m)\u001b[0m\u001b[0;34m\u001b[0m\u001b[0;34m\u001b[0m\u001b[0m\n\u001b[1;32m    433\u001b[0m \u001b[0;34m\u001b[0m\u001b[0m\n\u001b[0;32m--> 434\u001b[0;31m             \u001b[0mself\u001b[0m\u001b[0;34m.\u001b[0m\u001b[0m_condition\u001b[0m\u001b[0;34m.\u001b[0m\u001b[0mwait\u001b[0m\u001b[0;34m(\u001b[0m\u001b[0mtimeout\u001b[0m\u001b[0;34m)\u001b[0m\u001b[0;34m\u001b[0m\u001b[0;34m\u001b[0m\u001b[0m\n\u001b[0m\u001b[1;32m    435\u001b[0m \u001b[0;34m\u001b[0m\u001b[0m\n\u001b[1;32m    436\u001b[0m             \u001b[0;32mif\u001b[0m \u001b[0mself\u001b[0m\u001b[0;34m.\u001b[0m\u001b[0m_state\u001b[0m \u001b[0;32min\u001b[0m \u001b[0;34m[\u001b[0m\u001b[0mCANCELLED\u001b[0m\u001b[0;34m,\u001b[0m \u001b[0mCANCELLED_AND_NOTIFIED\u001b[0m\u001b[0;34m]\u001b[0m\u001b[0;34m:\u001b[0m\u001b[0;34m\u001b[0m\u001b[0;34m\u001b[0m\u001b[0m\n",
      "\u001b[0;32m~/anaconda3/envs/jupyterlab-debugger/lib/python3.8/threading.py\u001b[0m in \u001b[0;36mwait\u001b[0;34m(self, timeout)\u001b[0m\n\u001b[1;32m    300\u001b[0m         \u001b[0;32mtry\u001b[0m\u001b[0;34m:\u001b[0m    \u001b[0;31m# restore state no matter what (e.g., KeyboardInterrupt)\u001b[0m\u001b[0;34m\u001b[0m\u001b[0;34m\u001b[0m\u001b[0m\n\u001b[1;32m    301\u001b[0m             \u001b[0;32mif\u001b[0m \u001b[0mtimeout\u001b[0m \u001b[0;32mis\u001b[0m \u001b[0;32mNone\u001b[0m\u001b[0;34m:\u001b[0m\u001b[0;34m\u001b[0m\u001b[0;34m\u001b[0m\u001b[0m\n\u001b[0;32m--> 302\u001b[0;31m                 \u001b[0mwaiter\u001b[0m\u001b[0;34m.\u001b[0m\u001b[0macquire\u001b[0m\u001b[0;34m(\u001b[0m\u001b[0;34m)\u001b[0m\u001b[0;34m\u001b[0m\u001b[0;34m\u001b[0m\u001b[0m\n\u001b[0m\u001b[1;32m    303\u001b[0m                 \u001b[0mgotit\u001b[0m \u001b[0;34m=\u001b[0m \u001b[0;32mTrue\u001b[0m\u001b[0;34m\u001b[0m\u001b[0;34m\u001b[0m\u001b[0m\n\u001b[1;32m    304\u001b[0m             \u001b[0;32melse\u001b[0m\u001b[0;34m:\u001b[0m\u001b[0;34m\u001b[0m\u001b[0;34m\u001b[0m\u001b[0m\n",
      "\u001b[0;31mKeyboardInterrupt\u001b[0m: "
     ]
    },
    {
     "data": {
      "image/png": "[encoded data removed]",
      "text/plain": [
       "<Figure size 432x288 with 1 Axes>"
      ]
     },
     "metadata": {
      "needs_background": "light"
     },
     "output_type": "display_data"
    }
   ],
   "source": [
    "camera = Camera(plt.figure())\n",
    "\n",
    "\n",
    "for i in range(30):\n",
    "    kmean.fit(X, max_iters=1)\n",
    "    plt.scatter(X[-1:, 0], X[-1:, 1], c='b', marker='^')\n",
    "    plt.scatter(X[:-1, 0], X[:-1, 1], c=kmean.affiliations[:-1], s=10, alpha=0.5)\n",
    "    plt.scatter(kmean.centroids[:, 0], kmean.centroids[:, 1], c='r', s=100)\n",
    "    camera.snap()\n",
    "    addPoint()\n",
    "\n",
    "anim = camera.animate(blit=True)\n",
    "anim.save('scatter.gif', writer='imagemagick')"
   ]
  },
  {
   "cell_type": "code",
   "execution_count": 203,
   "metadata": {
    "execution": {
     "iopub.execute_input": "2020-08-20T18:10:05.003184Z",
     "iopub.status.busy": "2020-08-20T18:10:05.003041Z",
     "iopub.status.idle": "2020-08-20T18:10:05.005526Z",
     "shell.execute_reply": "2020-08-20T18:10:05.005193Z",
     "shell.execute_reply.started": "2020-08-20T18:10:05.003171Z"
    }
   },
   "outputs": [],
   "source": []
  },
  {
   "cell_type": "code",
   "execution_count": 204,
   "metadata": {
    "execution": {
     "iopub.execute_input": "2020-08-20T18:10:05.313213Z",
     "iopub.status.busy": "2020-08-20T18:10:05.313011Z",
     "iopub.status.idle": "2020-08-20T18:10:05.316223Z",
     "shell.execute_reply": "2020-08-20T18:10:05.315869Z",
     "shell.execute_reply.started": "2020-08-20T18:10:05.313192Z"
    }
   },
   "outputs": [
    {
     "data": {
      "text/plain": [
       "502"
      ]
     },
     "execution_count": 204,
     "metadata": {},
     "output_type": "execute_result"
    }
   ],
   "source": [
    "len(X)"
   ]
  },
  {
   "cell_type": "code",
   "execution_count": 6,
   "metadata": {
    "execution": {
     "iopub.execute_input": "2020-08-18T17:51:56.034670Z",
     "iopub.status.busy": "2020-08-18T17:51:56.034492Z",
     "iopub.status.idle": "2020-08-18T17:51:56.037789Z",
     "shell.execute_reply": "2020-08-18T17:51:56.037506Z",
     "shell.execute_reply.started": "2020-08-18T17:51:56.034655Z"
    }
   },
   "outputs": [
    {
     "data": {
      "text/plain": [
       "array([ 8, 20,  8, ..., 14,  1, 26])"
      ]
     },
     "execution_count": 6,
     "metadata": {},
     "output_type": "execute_result"
    }
   ],
   "source": [
    "kmean.affiliations"
   ]
  },
  {
   "cell_type": "code",
   "execution_count": 7,
   "metadata": {
    "execution": {
     "iopub.execute_input": "2020-08-18T17:51:56.529540Z",
     "iopub.status.busy": "2020-08-18T17:51:56.529383Z",
     "iopub.status.idle": "2020-08-18T17:51:56.532450Z",
     "shell.execute_reply": "2020-08-18T17:51:56.532185Z",
     "shell.execute_reply.started": "2020-08-18T17:51:56.529524Z"
    }
   },
   "outputs": [
    {
     "data": {
      "text/plain": [
       "array([[ 0.55979087, -1.06730239],\n",
       "       [-1.25248834,  1.53090716],\n",
       "       [ 1.7161969 ,  0.98514902],\n",
       "       [-1.50496126, -1.6980101 ],\n",
       "       [ 0.1858561 ,  0.66797631],\n",
       "       [-1.69136479,  0.30043794],\n",
       "       [ 1.74766108, -1.63776386],\n",
       "       [-0.63458269, -0.65041907],\n",
       "       [ 1.05205697, -0.03174368],\n",
       "       [-0.81624007,  0.89195904],\n",
       "       [ 0.25881211,  1.46213159],\n",
       "       [ 0.25531008, -0.37605331],\n",
       "       [ 1.65840095, -0.58104789],\n",
       "       [ 0.72001422, -1.79797398],\n",
       "       [ 1.00561741,  1.25156775],\n",
       "       [-1.01239267, -1.43322425],\n",
       "       [-0.10376722, -1.10298917],\n",
       "       [-1.68738771,  1.11237799],\n",
       "       [ 1.59365589,  0.54253898],\n",
       "       [-0.20644017,  1.33340446],\n",
       "       [ 0.61029601,  0.50227164],\n",
       "       [-0.14062527,  0.11726742],\n",
       "       [-1.34069709,  0.38420497],\n",
       "       [-0.48003189, -0.37741003],\n",
       "       [ 0.4055323 ,  0.2698242 ],\n",
       "       [-0.12046313,  0.91445328],\n",
       "       [-0.25681285,  0.41054809],\n",
       "       [ 0.09328097, -0.46514331],\n",
       "       [ 0.38820462,  0.0177945 ],\n",
       "       [-1.0192364 , -1.5493492 ]])"
      ]
     },
     "execution_count": 7,
     "metadata": {},
     "output_type": "execute_result"
    }
   ],
   "source": [
    "kmean.centroids"
   ]
  },
  {
   "cell_type": "code",
   "execution_count": 8,
   "metadata": {
    "execution": {
     "iopub.execute_input": "2020-08-18T17:51:59.459646Z",
     "iopub.status.busy": "2020-08-18T17:51:59.459480Z",
     "iopub.status.idle": "2020-08-18T17:51:59.461993Z",
     "shell.execute_reply": "2020-08-18T17:51:59.461685Z",
     "shell.execute_reply.started": "2020-08-18T17:51:59.459630Z"
    }
   },
   "outputs": [
    {
     "data": {
      "text/plain": [
       "30"
      ]
     },
     "execution_count": 8,
     "metadata": {},
     "output_type": "execute_result"
    }
   ],
   "source": [
    "kmean.k"
   ]
  }
 ],
 "metadata": {
  "kernelspec": {
   "display_name": "Python 3",
   "language": "python",
   "name": "python3"
  },
  "language_info": {
   "codemirror_mode": {
    "name": "ipython",
    "version": 3
   },
   "file_extension": ".py",
   "mimetype": "text/x-python",
   "name": "python",
   "nbconvert_exporter": "python",
   "pygments_lexer": "ipython3",
   "version": "3.8.5"
  }
 },
 "nbformat": 4,
 "nbformat_minor": 4
}
