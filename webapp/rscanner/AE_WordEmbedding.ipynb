{
 "cells": [
  {
   "cell_type": "code",
   "execution_count": 140,
   "metadata": {},
   "outputs": [],
   "source": [
    "import torch\n",
    "import torch.nn as nn\n",
    "import torch.nn.functional as F\n",
    "import numpy as np\n",
    "import math\n",
    "import string\n",
    "\n",
    "from util import randomChoice, lineToTensor, tensorToLine\n",
    "\n",
    "device = torch.device(\"cpu\")\n",
    "\n",
    "datensatz = [\n",
    "    [\"MAN\",\"KING\"],\n",
    "    [\"WOMAN\",\"QUEEN\"]\n",
    "]"
   ]
  },
  {
   "cell_type": "code",
   "execution_count": 141,
   "metadata": {},
   "outputs": [],
   "source": [
    "class word2vec(nn.Module):\n",
    "    def __init__(self, input_size, output_size):\n",
    "        super(word2vec, self).__init__()\n",
    "        \n",
    "        self.i2o_L1 = nn.Linear(input_size, math.ceil(input_size / 2))\n",
    "        self.i2o_L2 = nn.Linear(math.ceil(input_size/ 2), math.ceil(input_size / 4))\n",
    "        self.i2o_L3 = nn.Linear(math.ceil(input_size / 4), math.ceil(input_size / 2))\n",
    "        self.i2o_L4 = nn.Linear(math.ceil(input_size / 2), output_size)\n",
    "        \n",
    "    def forward(self, input):\n",
    "        output = self.i2o_L1(input)\n",
    "        output = self.i2o_L2(output)\n",
    "        output = self.i2o_L3(output)\n",
    "        output = self.i2o_L4(output)\n",
    "        return output\n",
    "    \n",
    "    def encode(self, input):\n",
    "        output = self.i2o_L1(input)\n",
    "        output = self.i2o_L2(output)\n",
    "        return output\n",
    "    \n",
    "    def decode(self, input):\n",
    "        output = self.i2o_L3(input)\n",
    "        output = self.i2o_L4(output)\n",
    "        return output"
   ]
  },
  {
   "cell_type": "code",
   "execution_count": 142,
   "metadata": {},
   "outputs": [],
   "source": [
    "all_letters = string.ascii_letters + \" .,;'\" + \"äÄüÜöÖ\"\n",
    "n_letters = len(all_letters)\n",
    "contextLength = 2\n",
    "\n",
    "model = word2vec(context_length(n_letters * 10), n_letters * 10).to(device)\n",
    "optimizer = torch.optim.SGD(model.parameters(), lr=0.05)"
   ]
  },
  {
   "cell_type": "code",
   "execution_count": 143,
   "metadata": {},
   "outputs": [],
   "source": [
    "learning_rate = 0.005"
   ]
  },
  {
   "cell_type": "code",
   "execution_count": 144,
   "metadata": {},
   "outputs": [],
   "source": [
    "def trainStep(line_tensor):\n",
    "    model.zero_grad()\n",
    "\n",
    "    output = model(line_tensor.to(device))\n",
    "\n",
    "    loss = F.mse_loss(output, line_tensor.to(device))\n",
    "    \n",
    "    optimizer.zero_grad()\n",
    "    loss.backward()\n",
    "    optimizer.step()\n",
    "\n",
    "    return output, loss.item()"
   ]
  },
  {
   "cell_type": "code",
   "execution_count": 159,
   "metadata": {},
   "outputs": [
    {
     "name": "stdout",
     "output_type": "stream",
     "text": [
      "0.0007619614716531942\r"
     ]
    }
   ],
   "source": [
    "current_loss = 0\n",
    "for iter in range(0, 5000):\n",
    "    for line in datensatz:\n",
    "        line_tensor = lineToTensor(line, 10).flatten()\n",
    "        output, loss = trainStep(line_tensor)\n",
    "        current_loss += loss\n",
    "    print(current_loss, end=\"\\r\")\n",
    "    current_loss = 0"
   ]
  },
  {
   "cell_type": "code",
   "execution_count": 160,
   "metadata": {},
   "outputs": [],
   "source": [
    "king = model.encode(lineToTensor(\"King\",10).flatten())"
   ]
  },
  {
   "cell_type": "code",
   "execution_count": 161,
   "metadata": {},
   "outputs": [],
   "source": [
    "man = model.encode(lineToTensor(\"Man\",10).flatten())"
   ]
  },
  {
   "cell_type": "code",
   "execution_count": 162,
   "metadata": {},
   "outputs": [],
   "source": [
    "woman = model.encode(lineToTensor(\"Woman\",10).flatten())"
   ]
  },
  {
   "cell_type": "code",
   "execution_count": 163,
   "metadata": {},
   "outputs": [],
   "source": [
    "queen = woman + man"
   ]
  },
  {
   "cell_type": "code",
   "execution_count": 164,
   "metadata": {},
   "outputs": [],
   "source": [
    "word = model.decode(queen).detach()"
   ]
  },
  {
   "cell_type": "code",
   "execution_count": 165,
   "metadata": {},
   "outputs": [
    {
     "data": {
      "text/plain": [
       "'MWaomnan'"
      ]
     },
     "execution_count": 165,
     "metadata": {},
     "output_type": "execute_result"
    }
   ],
   "source": [
    "tensorToLine(torch.abs(torch.round(word)).view(10, n_letters))"
   ]
  }
 ],
 "metadata": {
  "kernelspec": {
   "display_name": "Python 3",
   "language": "python",
   "name": "python3"
  },
  "language_info": {
   "codemirror_mode": {
    "name": "ipython",
    "version": 3
   },
   "file_extension": ".py",
   "mimetype": "text/x-python",
   "name": "python",
   "nbconvert_exporter": "python",
   "pygments_lexer": "ipython3",
   "version": "3.8.5"
  }
 },
 "nbformat": 4,
 "nbformat_minor": 4
}
